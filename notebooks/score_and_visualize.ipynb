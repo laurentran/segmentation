{
 "cells": [
  {
   "cell_type": "markdown",
   "metadata": {},
   "source": [
    "# Scoring and Visualization"
   ]
  },
  {
   "cell_type": "code",
   "execution_count": 136,
   "metadata": {},
   "outputs": [],
   "source": [
    "import glob\n",
    "import os\n",
    "import math\n",
    "import keras\n",
    "import numpy as np\n",
    "import pandas as pd\n",
    "import tensorflow as tf\n",
    "import ipywidgets as widgets\n",
    "import matplotlib.pyplot as plt\n",
    "\n",
    "from keras.models import Model#, load_model\n",
    "from keras import backend as K\n",
    "from dotenv import load_dotenv\n",
    "\n",
    "from ipywidgets import interact, interact_manual\n",
    "from IPython.display import Image\n",
    "from mpl_toolkits import mplot3d\n",
    "from tensorflow.keras.models import load_model\n",
    "\n",
    "\n",
    "%matplotlib inline\n",
    "\n",
    "pd.options.display.max_rows = 4000\n",
    "pd.options.display.max_seq_items = 2000\n",
    "\n",
    "load_dotenv()"
   ]
  },
  {
   "cell_type": "markdown",
   "metadata": {},
   "source": [
    "### Score and visualize sliced image patches"
   ]
  },
  {
   "cell_type": "code",
   "execution_count": 137,
   "metadata": {},
   "outputs": [],
   "source": [
    "input_n = 128\n",
    "\n",
    "im_slice_dir = os.getenv('IMAGE_SLICES_DIR')\n",
    "mask_slice_dir = os.getenv('MASK_SLICES_DIR')\n",
    "\n",
    "im_slices = glob.glob(os.path.join(im_slice_dir, '*.npy'))\n",
    "mask_slices = glob.glob(os.path.join(mask_slice_dir, '*.npy'))"
   ]
  },
  {
   "cell_type": "code",
   "execution_count": 11,
   "metadata": {},
   "outputs": [],
   "source": [
    "# load saved model\n",
    "model = load_model('unet_best.h')"
   ]
  },
  {
   "cell_type": "code",
   "execution_count": 12,
   "metadata": {},
   "outputs": [],
   "source": [
    "val_frame=pd.DataFrame(im_slices)\n",
    "val_frame['1']=mask_slices"
   ]
  },
  {
   "cell_type": "code",
   "execution_count": 115,
   "metadata": {},
   "outputs": [],
   "source": [
    "def score_patch(img, model, threshold):\n",
    "    dim = img.shape\n",
    "    X = [img]\n",
    "    X = np.array(X)/255.\n",
    "    y_pred_proba = model.predict(X)\n",
    "    y_pred = (y_pred_proba > threshold).astype(np.uint8)\n",
    "    y_pred = y_pred[0].reshape(dim[0],dim[1])\n",
    "    return y_pred"
   ]
  },
  {
   "cell_type": "code",
   "execution_count": 118,
   "metadata": {},
   "outputs": [
    {
     "name": "stdout",
     "output_type": "stream",
     "text": [
      "0 True count of 1s: 2005 Predicted count of 1s: 2593\n",
      "1 True count of 1s: 101 Predicted count of 1s: 3899\n",
      "2 True count of 1s: 0 Predicted count of 1s: 0\n",
      "3 True count of 1s: 0 Predicted count of 1s: 0\n",
      "4 True count of 1s: 0 Predicted count of 1s: 0\n",
      "5 True count of 1s: 0 Predicted count of 1s: 0\n",
      "6 True count of 1s: 2432 Predicted count of 1s: 2483\n",
      "7 True count of 1s: 2432 Predicted count of 1s: 4892\n",
      "8 True count of 1s: 788 Predicted count of 1s: 1129\n",
      "9 True count of 1s: 0 Predicted count of 1s: 0\n"
     ]
    }
   ],
   "source": [
    "imgs = []\n",
    "gt = []\n",
    "preds = []\n",
    "\n",
    "for i, row in val_frame.iterrows():\n",
    "    if i < 10:\n",
    "        cube_name, mask_name = row.values\n",
    "        \n",
    "        cube=np.load(cube_name)\n",
    "        mask=np.load(mask_name).reshape(input_n, input_n)\n",
    "        \n",
    "        y_pred = score_patch(cube, model, 0.11)\n",
    "\n",
    "        print(i, 'True count of 1s:', np.count_nonzero(mask), 'Predicted count of 1s:', np.count_nonzero(y_pred))\n",
    "        gt.append(mask)\n",
    "        preds.append(y_pred)\n",
    "        imgs.append(cube)\n",
    "        \n",
    "    else:\n",
    "        break"
   ]
  },
  {
   "cell_type": "markdown",
   "metadata": {},
   "source": [
    "#### Visualization widget to visualize many patches using slider to adjust index"
   ]
  },
  {
   "cell_type": "code",
   "execution_count": 117,
   "metadata": {},
   "outputs": [
    {
     "data": {
      "application/vnd.jupyter.widget-view+json": {
       "model_id": "a1306ffff93343b9b758c1c68693d929",
       "version_major": 2,
       "version_minor": 0
      },
      "text/plain": [
       "interactive(children=(IntSlider(value=4, description='i', max=9), Output()), _dom_classes=('widget-interact',)…"
      ]
     },
     "metadata": {},
     "output_type": "display_data"
    }
   ],
   "source": [
    "@interact\n",
    "\n",
    "def visualize(i=(0,len(gt)-1)):\n",
    "    \n",
    "    #plot images \n",
    "    f, axarr = plt.subplots(1,3, figsize=(15,10), sharey=True)\n",
    "    axarr[0].imshow(imgs[i])\n",
    "    axarr[0].set_title('Image')   \n",
    "    axarr[1].imshow(preds[i])\n",
    "    axarr[1].set_title('Prediction')\n",
    "    axarr[2].imshow(gt[i])\n",
    "    axarr[2].set_title('Ground Truth')"
   ]
  },
  {
   "cell_type": "markdown",
   "metadata": {},
   "source": [
    "### Scoring and visualization on full images\n",
    "#### slice -> score patches -> stitch -> visualize"
   ]
  },
  {
   "cell_type": "code",
   "execution_count": 138,
   "metadata": {},
   "outputs": [],
   "source": [
    "im_dir = os.getenv('IMAGE_DIR')\n",
    "mask_dir = os.getenv('MASK_DIR')\n",
    "\n",
    "n = 128"
   ]
  },
  {
   "cell_type": "markdown",
   "metadata": {},
   "source": [
    "#### Helper functions"
   ]
  },
  {
   "cell_type": "code",
   "execution_count": 153,
   "metadata": {},
   "outputs": [],
   "source": [
    "\"\"\"\n",
    "Slices image into patches of size NxNx3 according to stride\n",
    "Zero pads any patches that are cut off at borders of image\n",
    "Returns numpy array of image patches\n",
    "\"\"\"\n",
    "\n",
    "def slice_image(img, n, stride, channels):\n",
    "    x_dim, y_dim = img.shape[0], img.shape[1]\n",
    "    \n",
    "    # calculate number of output cubes\n",
    "    num_x = math.ceil((x_dim-n)/stride + 1)\n",
    "    num_y = math.ceil((y_dim-n)/stride + 1)\n",
    "\n",
    "    # iterate through img \n",
    "    results = np.zeros((num_x*num_y, n, n, channels), dtype=int)\n",
    "    counter = 0\n",
    "\n",
    "    for i in range(num_y):\n",
    "        y = 0 if i==0 else y + stride\n",
    "        for j in range(num_x):\n",
    "            x = 0 if j==0 else x + stride\n",
    "\n",
    "            cube = img[x:x+n, y:y+n]\n",
    "            \n",
    "            dims = cube.shape\n",
    "            if channels == 1:\n",
    "                cube = cube.reshape((dims[0],dims[1],1))\n",
    "            results[counter,0:cube.shape[0],0:cube.shape[1]] = cube\n",
    "            counter += 1\n",
    "            \n",
    "    size = (num_x, num_y)\n",
    "    return results, size"
   ]
  },
  {
   "cell_type": "code",
   "execution_count": 218,
   "metadata": {},
   "outputs": [],
   "source": [
    "\"\"\"\n",
    "Stiches image patches, taking as input the scored patches (preds) and number of patches in x and y directions (size)\n",
    "Preds - array of scored image patches\n",
    "Size - tuple (num_x, num_y)\n",
    "\"\"\"\n",
    "\n",
    "def stitch_predictions(preds, size):\n",
    "    stitched = np.zeros((size[0]*n,size[1]*n), dtype=int)\n",
    "\n",
    "    x_i = 0\n",
    "    x_j = n\n",
    "    y_i = 0\n",
    "    y_j = n\n",
    "    for pred in preds:\n",
    "        stitched[x_i:x_j, y_i:y_j] = pred\n",
    "\n",
    "        if (x_j + n <= size[0]*n):\n",
    "            x_i += n\n",
    "            x_j += n\n",
    "        else:\n",
    "            x_i = 0\n",
    "            x_j = n\n",
    "            y_i += n\n",
    "            y_j += n\n",
    "            \n",
    "    return stitched"
   ]
  },
  {
   "cell_type": "markdown",
   "metadata": {},
   "source": [
    "#### Sample usage"
   ]
  },
  {
   "cell_type": "code",
   "execution_count": null,
   "metadata": {},
   "outputs": [],
   "source": [
    "im_filenames = glob.glob(im_dir+'/*.npy', recursive=True)\n",
    "mask_filenames = glob.glob(mask_dir+'/*.npy', recursive=True)\n",
    "\n",
    "fig, axs = plt.subplots(1,2,figsize=(20,20))\n",
    "\n",
    "im_filename = im_filenames[10]\n",
    "\n",
    "im = np.load(im_filename)\n",
    "filename = im_filename.split('/')[-1] #get image name\n",
    "mask = np.load(os.path.join(mask_dir,filename))\n",
    "\n",
    "axs[0].imshow(im)\n",
    "axs[1].imshow(mask)"
   ]
  },
  {
   "cell_type": "code",
   "execution_count": 248,
   "metadata": {},
   "outputs": [],
   "source": [
    "patches, size = slice_image(im, n, n, 3)\n",
    "\n",
    "preds = []\n",
    "for patch in patches:\n",
    "    y_pred = score_patch(patch, model, 0.1)\n",
    "    preds.append(y_pred)"
   ]
  },
  {
   "cell_type": "code",
   "execution_count": null,
   "metadata": {},
   "outputs": [],
   "source": [
    "stitched = stitch_predictions(preds, size)\n",
    "\n",
    "fig, axs = plt.subplots(1,3,figsize=(15,15))\n",
    "\n",
    "axs[0].imshow(im)\n",
    "axs[0].set_title('Image')   \n",
    "axs[1].imshow(stitched)\n",
    "axs[1].set_title('Prediction')   \n",
    "axs[2].imshow(mask)\n",
    "axs[2].set_title('Ground Truth')   "
   ]
  }
 ],
 "metadata": {
  "file_extension": ".py",
  "kernelspec": {
   "display_name": "Python 3",
   "language": "python",
   "name": "python3"
  },
  "language_info": {
   "codemirror_mode": {
    "name": "ipython",
    "version": 3
   },
   "file_extension": ".py",
   "mimetype": "text/x-python",
   "name": "python",
   "nbconvert_exporter": "python",
   "pygments_lexer": "ipython3",
   "version": "3.7.4"
  }
 },
 "nbformat": 4,
 "nbformat_minor": 2
}
