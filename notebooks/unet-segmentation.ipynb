{
 "cells": [
  {
   "cell_type": "markdown",
   "metadata": {},
   "source": [
    "## Train Unet Segmentation Model "
   ]
  },
  {
   "cell_type": "code",
   "execution_count": 17,
   "metadata": {},
   "outputs": [],
   "source": [
    "import keras\n",
    "from keras.models import Model\n",
    "from keras.layers import Input, Dense, Concatenate\n",
    "from keras.layers import UpSampling2D, Conv2D, MaxPooling2D, Activation, BatchNormalization\n",
    "import numpy as np\n",
    "import glob\n",
    "import os\n",
    "import pickle\n",
    "import pandas as pd\n",
    "import random\n",
    "from sklearn.model_selection import train_test_split\n",
    "import tensorflow as tf\n",
    "from livelossplot.keras import PlotLossesCallback"
   ]
  },
  {
   "cell_type": "code",
   "execution_count": 18,
   "metadata": {},
   "outputs": [],
   "source": [
    "input_n=128"
   ]
  },
  {
   "cell_type": "code",
   "execution_count": 37,
   "metadata": {},
   "outputs": [],
   "source": [
    "def keras_generator(gen_df, batch_size, input_n):\n",
    "    while True:\n",
    "        x_batch = []\n",
    "        y_batch = []\n",
    "        \n",
    "        i = 0\n",
    "        while i < batch_size:\n",
    "            img_name, mask_name = gen_df.sample(1).values[0]\n",
    "            try:\n",
    "                img=np.load(img_name).reshape(input_n,input_n,3)\n",
    "                mask=np.load(mask_name).reshape(input_n,input_n,1)                    \n",
    "            except:\n",
    "                i-=1\n",
    "                continue\n",
    "                \n",
    "            x_batch += [img]\n",
    "            y_batch += [mask]\n",
    "            \n",
    "            i += 1\n",
    "        \n",
    "        x_batch = np.array(x_batch)/ 255.\n",
    "        y_batch = np.array(y_batch)\n",
    "\n",
    "        yield x_batch, y_batch "
   ]
  },
  {
   "cell_type": "code",
   "execution_count": 38,
   "metadata": {},
   "outputs": [],
   "source": [
    "def construct_unet(input_n):\n",
    "    inp = Input(shape=(input_n,input_n, 3))\n",
    "\n",
    "    conv_1_1 = Conv2D(32, 3, padding='same')(inp)\n",
    "    conv_1_1 = BatchNormalization(axis=3)(conv_1_1)\n",
    "    conv_1_1 = Activation('relu')(conv_1_1)\n",
    "\n",
    "    conv_1_2 = Conv2D(32, 3, padding='same')(conv_1_1)\n",
    "    conv_1_2 = BatchNormalization(axis=3)(conv_1_2)\n",
    "    conv_1_2 = Activation('relu')(conv_1_2)\n",
    "\n",
    "    pool_1 = MaxPooling2D(2)(conv_1_2)\n",
    "\n",
    "    conv_2_1 = Conv2D(64, 3, padding='same')(pool_1)\n",
    "    conv_2_1 = BatchNormalization(axis=3)(conv_2_1)\n",
    "    conv_2_1 = Activation('relu')(conv_2_1)\n",
    "\n",
    "    conv_2_2 = Conv2D(64, 3, padding='same')(conv_2_1)\n",
    "    conv_2_2 = BatchNormalization(axis=3)(conv_2_2)\n",
    "    conv_2_2 = Activation('relu')(conv_2_2)\n",
    "\n",
    "    pool_2 = MaxPooling2D(2)(conv_2_2)\n",
    "\n",
    "    conv_3_1 = Conv2D(128, 3, padding='same')(pool_2)\n",
    "    conv_3_1 = BatchNormalization(axis=3)(conv_3_1)\n",
    "    conv_3_1 = Activation('relu')(conv_3_1)\n",
    "\n",
    "    conv_3_2 = Conv2D(128, 3, padding='same')(conv_3_1)\n",
    "    conv_3_2 = BatchNormalization(axis=3)(conv_3_2)\n",
    "    conv_3_2 = Activation('relu')(conv_3_2)\n",
    "\n",
    "    pool_3 = MaxPooling2D(2)(conv_3_2)\n",
    "\n",
    "\n",
    "    conv_4_1 = Conv2D(256, 3, padding='same')(pool_3)\n",
    "    conv_4_1 = BatchNormalization(axis=3)(conv_4_1)\n",
    "    conv_4_1 = Activation('relu')(conv_4_1)\n",
    "\n",
    "    conv_4_2 = Conv2D(256, 3, padding='same')(conv_4_1)\n",
    "    conv_4_2 = BatchNormalization(axis=3)(conv_4_2)\n",
    "    conv_4_2 = Activation('relu')(conv_4_2)\n",
    "\n",
    "    pool_4 = MaxPooling2D(2)(conv_4_2)\n",
    "\n",
    "    up_1 = UpSampling2D(2,interpolation='bilinear')(pool_4)\n",
    "    conc_1 = Concatenate()([conv_4_2, up_1])\n",
    "\n",
    "    conv_up_1_1 = Conv2D(256, 3, padding='same')(conc_1)\n",
    "    conv_up_1_1 = BatchNormalization(axis=3)(conv_up_1_1)\n",
    "    conv_up_1_1 = Activation('relu')(conv_up_1_1)\n",
    "\n",
    "    conv_up_1_2 = Conv2D(256, 3, padding='same')(conv_up_1_1)\n",
    "    conv_up_1_2 = BatchNormalization(axis=3)(conv_up_1_2)\n",
    "    conv_up_1_2 = Activation('relu')(conv_up_1_2)\n",
    "\n",
    "    up_2 = UpSampling2D(2,interpolation='bilinear')(conv_up_1_2)\n",
    "    conc_2 = Concatenate()([conv_3_2, up_2])\n",
    "\n",
    "    conv_up_2_1 = Conv2D(128, 3, padding='same')(conc_2)\n",
    "    conv_up_2_1 = BatchNormalization(axis=3)(conv_up_2_1)\n",
    "    conv_up_2_1 = Activation('relu')(conv_up_2_1)\n",
    "\n",
    "    conv_up_2_2 = Conv2D(128, 3, padding='same')(conv_up_2_1)\n",
    "    conv_up_2_2 = BatchNormalization(axis=3)(conv_up_2_2)\n",
    "    conv_up_2_2 = Activation('relu')(conv_up_2_2)\n",
    "\n",
    "    up_3 = UpSampling2D(2,interpolation='bilinear')(conv_up_2_2)\n",
    "    conc_3 = Concatenate()([conv_2_2, up_3])\n",
    "\n",
    "    conv_up_3_1 = Conv2D(64, 3, padding='same')(conc_3)\n",
    "    conv_up_3_1 = BatchNormalization(axis=3)(conv_up_3_1)\n",
    "    conv_up_3_1 = Activation('relu')(conv_up_3_1)\n",
    "\n",
    "    conv_up_3_2 = Conv2D(64, 3, padding='same')(conv_up_3_1)\n",
    "    conv_up_3_2 = BatchNormalization(axis=3)(conv_up_3_2)\n",
    "    conv_up_3_2 = Activation('relu')(conv_up_3_2)\n",
    "\n",
    "    up_4 = UpSampling2D(2,interpolation='bilinear')(conv_up_3_2)\n",
    "    conc_4 = Concatenate()([conv_1_2, up_4])\n",
    "    conv_up_4_1 = Conv2D(32, 3, padding='same')(conc_4)\n",
    "    conv_up_4_1 = BatchNormalization(axis=3)(conv_up_4_1)\n",
    "    conv_up_4_1 = Activation('relu')(conv_up_4_1)\n",
    "    \n",
    "    conv_up_4_2 = Conv2D(32, 3, padding='same')(conv_up_4_1)\n",
    "    conv_up_4_2 = BatchNormalization(axis=3)(conv_up_4_2)\n",
    "    conv_up_4_2 = Activation('relu')(conv_up_4_2)\n",
    "\n",
    "    conv_up_4_2 = Conv2D(1, 3, padding='same')(conv_up_4_1)\n",
    "    result = Activation('sigmoid')(conv_up_4_2)\n",
    "\n",
    "    model = Model(inputs=inp, outputs=result)\n",
    "    \n",
    "    return model"
   ]
  },
  {
   "cell_type": "code",
   "execution_count": 39,
   "metadata": {},
   "outputs": [],
   "source": [
    "model=construct_unet(input_n)"
   ]
  },
  {
   "cell_type": "code",
   "execution_count": 40,
   "metadata": {},
   "outputs": [
    {
     "name": "stdout",
     "output_type": "stream",
     "text": [
      "Model: \"model_3\"\n",
      "__________________________________________________________________________________________________\n",
      "Layer (type)                    Output Shape         Param #     Connected to                     \n",
      "==================================================================================================\n",
      "input_3 (InputLayer)            (None, 128, 128, 3)  0                                            \n",
      "__________________________________________________________________________________________________\n",
      "conv2d_35 (Conv2D)              (None, 128, 128, 32) 896         input_3[0][0]                    \n",
      "__________________________________________________________________________________________________\n",
      "batch_normalization_33 (BatchNo (None, 128, 128, 32) 128         conv2d_35[0][0]                  \n",
      "__________________________________________________________________________________________________\n",
      "activation_35 (Activation)      (None, 128, 128, 32) 0           batch_normalization_33[0][0]     \n",
      "__________________________________________________________________________________________________\n",
      "conv2d_36 (Conv2D)              (None, 128, 128, 32) 9248        activation_35[0][0]              \n",
      "__________________________________________________________________________________________________\n",
      "batch_normalization_34 (BatchNo (None, 128, 128, 32) 128         conv2d_36[0][0]                  \n",
      "__________________________________________________________________________________________________\n",
      "activation_36 (Activation)      (None, 128, 128, 32) 0           batch_normalization_34[0][0]     \n",
      "__________________________________________________________________________________________________\n",
      "max_pooling2d_9 (MaxPooling2D)  (None, 64, 64, 32)   0           activation_36[0][0]              \n",
      "__________________________________________________________________________________________________\n",
      "conv2d_37 (Conv2D)              (None, 64, 64, 64)   18496       max_pooling2d_9[0][0]            \n",
      "__________________________________________________________________________________________________\n",
      "batch_normalization_35 (BatchNo (None, 64, 64, 64)   256         conv2d_37[0][0]                  \n",
      "__________________________________________________________________________________________________\n",
      "activation_37 (Activation)      (None, 64, 64, 64)   0           batch_normalization_35[0][0]     \n",
      "__________________________________________________________________________________________________\n",
      "conv2d_38 (Conv2D)              (None, 64, 64, 64)   36928       activation_37[0][0]              \n",
      "__________________________________________________________________________________________________\n",
      "batch_normalization_36 (BatchNo (None, 64, 64, 64)   256         conv2d_38[0][0]                  \n",
      "__________________________________________________________________________________________________\n",
      "activation_38 (Activation)      (None, 64, 64, 64)   0           batch_normalization_36[0][0]     \n",
      "__________________________________________________________________________________________________\n",
      "max_pooling2d_10 (MaxPooling2D) (None, 32, 32, 64)   0           activation_38[0][0]              \n",
      "__________________________________________________________________________________________________\n",
      "conv2d_39 (Conv2D)              (None, 32, 32, 128)  73856       max_pooling2d_10[0][0]           \n",
      "__________________________________________________________________________________________________\n",
      "batch_normalization_37 (BatchNo (None, 32, 32, 128)  512         conv2d_39[0][0]                  \n",
      "__________________________________________________________________________________________________\n",
      "activation_39 (Activation)      (None, 32, 32, 128)  0           batch_normalization_37[0][0]     \n",
      "__________________________________________________________________________________________________\n",
      "conv2d_40 (Conv2D)              (None, 32, 32, 128)  147584      activation_39[0][0]              \n",
      "__________________________________________________________________________________________________\n",
      "batch_normalization_38 (BatchNo (None, 32, 32, 128)  512         conv2d_40[0][0]                  \n",
      "__________________________________________________________________________________________________\n",
      "activation_40 (Activation)      (None, 32, 32, 128)  0           batch_normalization_38[0][0]     \n",
      "__________________________________________________________________________________________________\n",
      "max_pooling2d_11 (MaxPooling2D) (None, 16, 16, 128)  0           activation_40[0][0]              \n",
      "__________________________________________________________________________________________________\n",
      "conv2d_41 (Conv2D)              (None, 16, 16, 256)  295168      max_pooling2d_11[0][0]           \n",
      "__________________________________________________________________________________________________\n",
      "batch_normalization_39 (BatchNo (None, 16, 16, 256)  1024        conv2d_41[0][0]                  \n",
      "__________________________________________________________________________________________________\n",
      "activation_41 (Activation)      (None, 16, 16, 256)  0           batch_normalization_39[0][0]     \n",
      "__________________________________________________________________________________________________\n",
      "conv2d_42 (Conv2D)              (None, 16, 16, 256)  590080      activation_41[0][0]              \n",
      "__________________________________________________________________________________________________\n",
      "batch_normalization_40 (BatchNo (None, 16, 16, 256)  1024        conv2d_42[0][0]                  \n",
      "__________________________________________________________________________________________________\n",
      "activation_42 (Activation)      (None, 16, 16, 256)  0           batch_normalization_40[0][0]     \n",
      "__________________________________________________________________________________________________\n",
      "max_pooling2d_12 (MaxPooling2D) (None, 8, 8, 256)    0           activation_42[0][0]              \n",
      "__________________________________________________________________________________________________\n",
      "up_sampling2d_9 (UpSampling2D)  (None, 16, 16, 256)  0           max_pooling2d_12[0][0]           \n",
      "__________________________________________________________________________________________________\n",
      "concatenate_9 (Concatenate)     (None, 16, 16, 512)  0           activation_42[0][0]              \n",
      "                                                                 up_sampling2d_9[0][0]            \n",
      "__________________________________________________________________________________________________\n",
      "conv2d_43 (Conv2D)              (None, 16, 16, 256)  1179904     concatenate_9[0][0]              \n",
      "__________________________________________________________________________________________________\n",
      "batch_normalization_41 (BatchNo (None, 16, 16, 256)  1024        conv2d_43[0][0]                  \n",
      "__________________________________________________________________________________________________\n",
      "activation_43 (Activation)      (None, 16, 16, 256)  0           batch_normalization_41[0][0]     \n",
      "__________________________________________________________________________________________________\n",
      "conv2d_44 (Conv2D)              (None, 16, 16, 256)  590080      activation_43[0][0]              \n",
      "__________________________________________________________________________________________________\n",
      "batch_normalization_42 (BatchNo (None, 16, 16, 256)  1024        conv2d_44[0][0]                  \n",
      "__________________________________________________________________________________________________\n",
      "activation_44 (Activation)      (None, 16, 16, 256)  0           batch_normalization_42[0][0]     \n",
      "__________________________________________________________________________________________________\n",
      "up_sampling2d_10 (UpSampling2D) (None, 32, 32, 256)  0           activation_44[0][0]              \n",
      "__________________________________________________________________________________________________\n",
      "concatenate_10 (Concatenate)    (None, 32, 32, 384)  0           activation_40[0][0]              \n",
      "                                                                 up_sampling2d_10[0][0]           \n",
      "__________________________________________________________________________________________________\n",
      "conv2d_45 (Conv2D)              (None, 32, 32, 128)  442496      concatenate_10[0][0]             \n",
      "__________________________________________________________________________________________________\n",
      "batch_normalization_43 (BatchNo (None, 32, 32, 128)  512         conv2d_45[0][0]                  \n",
      "__________________________________________________________________________________________________\n",
      "activation_45 (Activation)      (None, 32, 32, 128)  0           batch_normalization_43[0][0]     \n",
      "__________________________________________________________________________________________________\n",
      "conv2d_46 (Conv2D)              (None, 32, 32, 128)  147584      activation_45[0][0]              \n",
      "__________________________________________________________________________________________________\n",
      "batch_normalization_44 (BatchNo (None, 32, 32, 128)  512         conv2d_46[0][0]                  \n",
      "__________________________________________________________________________________________________\n",
      "activation_46 (Activation)      (None, 32, 32, 128)  0           batch_normalization_44[0][0]     \n",
      "__________________________________________________________________________________________________\n",
      "up_sampling2d_11 (UpSampling2D) (None, 64, 64, 128)  0           activation_46[0][0]              \n",
      "__________________________________________________________________________________________________\n",
      "concatenate_11 (Concatenate)    (None, 64, 64, 192)  0           activation_38[0][0]              \n",
      "                                                                 up_sampling2d_11[0][0]           \n",
      "__________________________________________________________________________________________________\n",
      "conv2d_47 (Conv2D)              (None, 64, 64, 64)   110656      concatenate_11[0][0]             \n",
      "__________________________________________________________________________________________________\n",
      "batch_normalization_45 (BatchNo (None, 64, 64, 64)   256         conv2d_47[0][0]                  \n",
      "__________________________________________________________________________________________________\n",
      "activation_47 (Activation)      (None, 64, 64, 64)   0           batch_normalization_45[0][0]     \n",
      "__________________________________________________________________________________________________\n",
      "conv2d_48 (Conv2D)              (None, 64, 64, 64)   36928       activation_47[0][0]              \n",
      "__________________________________________________________________________________________________\n",
      "batch_normalization_46 (BatchNo (None, 64, 64, 64)   256         conv2d_48[0][0]                  \n",
      "__________________________________________________________________________________________________\n",
      "activation_48 (Activation)      (None, 64, 64, 64)   0           batch_normalization_46[0][0]     \n",
      "__________________________________________________________________________________________________\n",
      "up_sampling2d_12 (UpSampling2D) (None, 128, 128, 64) 0           activation_48[0][0]              \n",
      "__________________________________________________________________________________________________\n",
      "concatenate_12 (Concatenate)    (None, 128, 128, 96) 0           activation_36[0][0]              \n",
      "                                                                 up_sampling2d_12[0][0]           \n",
      "__________________________________________________________________________________________________\n",
      "conv2d_49 (Conv2D)              (None, 128, 128, 32) 27680       concatenate_12[0][0]             \n",
      "__________________________________________________________________________________________________\n",
      "batch_normalization_47 (BatchNo (None, 128, 128, 32) 128         conv2d_49[0][0]                  \n",
      "__________________________________________________________________________________________________\n",
      "activation_49 (Activation)      (None, 128, 128, 32) 0           batch_normalization_47[0][0]     \n",
      "__________________________________________________________________________________________________\n",
      "conv2d_51 (Conv2D)              (None, 128, 128, 1)  289         activation_49[0][0]              \n",
      "__________________________________________________________________________________________________\n",
      "activation_51 (Activation)      (None, 128, 128, 1)  0           conv2d_51[0][0]                  \n",
      "==================================================================================================\n",
      "Total params: 3,715,425\n",
      "Trainable params: 3,711,649\n",
      "Non-trainable params: 3,776\n",
      "__________________________________________________________________________________________________\n"
     ]
    }
   ],
   "source": [
    "model.summary()"
   ]
  },
  {
   "cell_type": "code",
   "execution_count": 41,
   "metadata": {},
   "outputs": [],
   "source": [
    "imgs = glob.glob(os.path.join('/datadrive/images_sliced', '*.npy'))\n",
    "masks = glob.glob(os.path.join('/datadrive/masks_sliced', '*.npy'))"
   ]
  },
  {
   "cell_type": "code",
   "execution_count": 42,
   "metadata": {},
   "outputs": [
    {
     "data": {
      "text/plain": [
       "234624"
      ]
     },
     "execution_count": 42,
     "metadata": {},
     "output_type": "execute_result"
    }
   ],
   "source": [
    "len(imgs)"
   ]
  },
  {
   "cell_type": "code",
   "execution_count": 43,
   "metadata": {},
   "outputs": [
    {
     "data": {
      "text/plain": [
       "234624"
      ]
     },
     "execution_count": 43,
     "metadata": {},
     "output_type": "execute_result"
    }
   ],
   "source": [
    "len(masks)"
   ]
  },
  {
   "cell_type": "code",
   "execution_count": 44,
   "metadata": {},
   "outputs": [],
   "source": [
    "X_train, X_test, y_train, y_test = train_test_split(imgs, masks, test_size=0.1, random_state=42)"
   ]
  },
  {
   "cell_type": "code",
   "execution_count": 45,
   "metadata": {},
   "outputs": [],
   "source": [
    "input_frame=pd.DataFrame(X_train)\n",
    "input_frame['1']=y_train"
   ]
  },
  {
   "cell_type": "code",
   "execution_count": 46,
   "metadata": {},
   "outputs": [],
   "source": [
    "val_frame=pd.DataFrame(X_test)\n",
    "val_frame['1']=y_test"
   ]
  },
  {
   "cell_type": "code",
   "execution_count": 47,
   "metadata": {},
   "outputs": [],
   "source": [
    "# run to test generator\n",
    "for x,y in keras_generator(input_frame, 16, input_n):\n",
    "    break"
   ]
  },
  {
   "cell_type": "code",
   "execution_count": 48,
   "metadata": {},
   "outputs": [],
   "source": [
    "\n",
    "best_w = keras.callbacks.ModelCheckpoint('unet_best.h',\n",
    "                                monitor='val_loss',\n",
    "                                verbose=0,\n",
    "                                save_best_only=True,\n",
    "                                mode='auto',\n",
    "                                period=1)\n",
    "\n",
    "last_w = keras.callbacks.ModelCheckpoint('unet_last.h',\n",
    "                                monitor='val_loss',\n",
    "                                verbose=0,\n",
    "                                save_best_only=False,\n",
    "                                mode='auto',\n",
    "                                period=1)\n",
    "\n",
    "\n",
    "callbacks = [best_w, last_w]\n",
    "\n",
    "adam = keras.optimizers.Adam(lr=0.0001, beta_1=0.9, beta_2=0.999, epsilon=1e-08, decay=0.0)\n",
    "\n",
    "model.compile(adam, 'binary_crossentropy', metrics=['accuracy', tf.keras.metrics.MeanIoU(num_classes=2)]) "
   ]
  },
  {
   "cell_type": "code",
   "execution_count": null,
   "metadata": {
    "scrolled": true
   },
   "outputs": [
    {
     "data": {
      "image/png": "[encoded data removed]",
      "text/plain": [
       "<Figure size 864x864 with 3 Axes>"
      ]
     },
     "metadata": {
      "needs_background": "light"
     },
     "output_type": "display_data"
    },
    {
     "name": "stdout",
     "output_type": "stream",
     "text": [
      "Log-loss (cost function):\n",
      "training   (min:    0.077, max:    0.472, cur:    0.080)\n",
      "validation (min:    0.005, max:    0.441, cur:    0.083)\n",
      "\n",
      "accuracy:\n",
      "training   (min:    0.836, max:    0.981, cur:    0.978)\n",
      "validation (min:    0.965, max:    0.985, cur:    0.979)\n",
      "\n",
      "mean_io_u_2:\n",
      "training   (min:    0.486, max:    0.487, cur:    0.487)\n",
      "validation (min:    0.486, max:    0.487, cur:    0.487)\n",
      "Epoch 66/200\n",
      " 45/100 [============>.................] - ETA: 28s - loss: 0.0860 - accuracy: 0.9762 - mean_io_u_2: 0.4874"
     ]
    }
   ],
   "source": [
    "batch_size = 4\n",
    "history = model.fit_generator(keras_generator(input_frame, batch_size, input_n),\n",
    "              steps_per_epoch=100,\n",
    "              epochs=200,\n",
    "              callbacks=[PlotLossesCallback(), best_w, last_w],\n",
    "              validation_data=keras_generator(val_frame, batch_size, input_n),\n",
    "              validation_steps=50,\n",
    "              use_multiprocessing=True,\n",
    "              initial_epoch=0)"
   ]
  },
  {
   "cell_type": "code",
   "execution_count": null,
   "metadata": {},
   "outputs": [],
   "source": []
  }
 ],
 "metadata": {
  "kernelspec": {
   "display_name": "Python 3",
   "language": "python",
   "name": "python3"
  },
  "language_info": {
   "codemirror_mode": {
    "name": "ipython",
    "version": 3
   },
   "file_extension": ".py",
   "mimetype": "text/x-python",
   "name": "python",
   "nbconvert_exporter": "python",
   "pygments_lexer": "ipython3",
   "version": "3.7.4"
  }
 },
 "nbformat": 4,
 "nbformat_minor": 2
}
