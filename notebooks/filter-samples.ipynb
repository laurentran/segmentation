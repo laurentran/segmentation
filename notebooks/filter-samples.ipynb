{
 "cells": [
  {
   "cell_type": "markdown",
   "metadata": {},
   "source": [
    "## Filter image patches to handle class imbalance\n",
    "\n",
    "#### Remove portion of images patches with all 0s and no 1s (no signal)"
   ]
  },
  {
   "cell_type": "code",
   "execution_count": null,
   "metadata": {},
   "outputs": [],
   "source": [
    "from dotenv import load_dotenv\n",
    "\n",
    "import numpy as np\n",
    "import matplotlib.pyplot as plt\n",
    "import math\n",
    "import os\n",
    "import glob\n",
    "import random\n",
    "\n",
    "load_dotenv()\n",
    "%matplotlib inline"
   ]
  },
  {
   "cell_type": "code",
   "execution_count": null,
   "metadata": {},
   "outputs": [],
   "source": [
    "in_postfix = os.getenv('DIR_LABEL_SLICED')\n",
    "out_postfix = os.getenv('DIR_LABEL_FILTERED')\n",
    "\n",
    "im_dir = os.getenv('IMAGE_DIR')\n",
    "mask_dir = os.getenv('MASK_DIR')\n",
    "\n",
    "in_im_dir = im_dir + in_postfix\n",
    "in_mask_dir = mask_dir + in_postfix\n",
    "\n",
    "out_im_dir = im_dir + out_postfix\n",
    "out_mask_dir = mask_dir + out_postfix\n",
    "\n",
    "n = 128"
   ]
  },
  {
   "cell_type": "code",
   "execution_count": null,
   "metadata": {},
   "outputs": [],
   "source": [
    "# returns boolean that indicates whether to keep training example \n",
    "def keep_sample(mask, keep_proba):\n",
    "    keep = True\n",
    "    rand = random.uniform(0,1)\n",
    "    if rand > keep_proba:\n",
    "        keep = False\n",
    "    return keep"
   ]
  },
  {
   "cell_type": "code",
   "execution_count": null,
   "metadata": {},
   "outputs": [],
   "source": [
    "im_filenames = glob.glob(in_im_dir+'/*.npy', recursive=True)\n",
    "mask_filenames = glob.glob(in_mask_dir+'/*.npy', recursive=True)\n",
    "\n",
    "num_samples = len(im_filenames)\n",
    "\n",
    "# Create output directories \n",
    "if not os.path.exists(out_im_dir):\n",
    "    os.makedirs(out_im_dir)\n",
    "if not os.path.exists(out_mask_dir):\n",
    "    os.makedirs(out_mask_dir)\n",
    "    \n",
    "samples_with_zeros = 0\n",
    "samples_with_ones = 0\n",
    "\n",
    "for i, im_filename in enumerate(im_filenames):\n",
    "    im = np.load(im_filename)\n",
    "    filename = im_filename.split('/')[-1] #get image name\n",
    "    mask = np.load(os.path.join(in_mask_dir,filename))\n",
    "    if i % 1000 == 0:\n",
    "        print('processing sample',i,'/',num_samples)\n",
    "        print('0:',samples_with_zeros,'1:',samples_with_ones)\n",
    "    if np.count_nonzero(mask) == 0: # if sample contains all 0s\n",
    "        keep = keep_sample(mask, 0.03) # determine whether to keep sample based on probability threshold\n",
    "        if keep:\n",
    "            samples_with_zeros += 1\n",
    "            np.save(os.path.join(out_im_dir,filename), im)\n",
    "            np.save(os.path.join(out_mask_dir,filename), mask)\n",
    "    else:\n",
    "        samples_with_ones += 1\n",
    "        np.save(os.path.join(out_im_dir,filename), im)\n",
    "        np.save(os.path.join(out_mask_dir,filename), mask)"
   ]
  }
 ],
 "metadata": {
  "kernelspec": {
   "display_name": "Python 3.5",
   "language": "python",
   "name": "python3"
  },
  "language_info": {
   "codemirror_mode": {
    "name": "ipython",
    "version": 3
   },
   "file_extension": ".py",
   "mimetype": "text/x-python",
   "name": "python",
   "nbconvert_exporter": "python",
   "pygments_lexer": "ipython3",
   "version": "3.5.6"
  }
 },
 "nbformat": 4,
 "nbformat_minor": 2
}
