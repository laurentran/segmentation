{
 "cells": [
  {
   "cell_type": "markdown",
   "metadata": {},
   "source": [
    "## Data loading and saving"
   ]
  },
  {
   "cell_type": "code",
   "execution_count": null,
   "metadata": {},
   "outputs": [],
   "source": [
    "from psd_tools import PSDImage\n",
    "from PIL import Image\n",
    "from dotenv import load_dotenv\n",
    "\n",
    "import sys\n",
    "sys.path.append('../src')\n",
    "\n",
    "import numpy as np\n",
    "import io\n",
    "import glob\n",
    "import utils.constant as constant\n",
    "import os\n",
    "import matplotlib.pyplot as plt\n",
    "\n",
    "%matplotlib inline"
   ]
  },
  {
   "cell_type": "markdown",
   "metadata": {},
   "source": [
    "### Set input and output directories"
   ]
  },
  {
   "cell_type": "code",
   "execution_count": null,
   "metadata": {},
   "outputs": [],
   "source": [
    "load_dotenv()\n",
    "\n",
    "input_dir = os.getenv('INPUT_DIR')\n",
    "im_dir = os.getenv('IMAGE_DIR')\n",
    "gt_dir = os.getenv('MASK_DIR')\n",
    "\n",
    "filenames = glob.glob(input_dir, recursive=True)\n",
    "num_images = len(filenames)"
   ]
  },
  {
   "cell_type": "markdown",
   "metadata": {},
   "source": [
    "### Read photoshop files and save as numPy arrays"
   ]
  },
  {
   "cell_type": "code",
   "execution_count": null,
   "metadata": {},
   "outputs": [],
   "source": [
    "# Create output directories \n",
    "if not os.path.exists(im_dir):\n",
    "    os.makedirs(im_dir)\n",
    "if not os.path.exists(gt_dir):\n",
    "    os.makedirs(gt_dir)\n",
    "\n",
    "num_images = len(filenames)\n",
    "i = 0\n",
    "for filename in filenames:\n",
    "    im = []\n",
    "    mask = []\n",
    "    gt = []\n",
    "    \n",
    "    # Print status\n",
    "    if i % 5 == 0:\n",
    "        print(i, '/', num_images, 'images processed')\n",
    "\n",
    "    # Open photoshop image\n",
    "    try:\n",
    "        psd = PSDImage.open(filename)\n",
    "    except:\n",
    "        continue\n",
    "        \n",
    "    im_name = filename.split('/')[-1].split('.')[0]+'.npy'\n",
    "    \n",
    "    # Iterate through individual layers\n",
    "    for layer in psd:\n",
    "        \n",
    "        # Convert image to PIL Image\n",
    "        if layer.name == constant.ORIGINAL:\n",
    "            im = np.array(layer.topil())  \n",
    "            dim = im.shape\n",
    "            \n",
    "        # Convert mask to PIL Image\n",
    "        elif layer.name == constant.MASK:\n",
    "            try:\n",
    "                mask = np.array(layer.topil())[:,:,3]/255.  # Select only last channel and normalize\n",
    "            except:\n",
    "                continue\n",
    "\n",
    "            # Construct mask that matches image dimensions - input mask is clipped and needs padding\n",
    "            mask_height = mask.shape[0]\n",
    "            gt = np.zeros((dim[0],dim[1]))\n",
    "            offset = layer.offset[1]\n",
    "\n",
    "            # Adjust mask location by # of offset pixels in y direction\n",
    "            try:\n",
    "                gt[offset:offset+mask_height,:] = mask\n",
    "            except:\n",
    "                print(i,'non-matching dimensions')\n",
    "                gt = [] \n",
    "\n",
    "    # Serialize images as numPy if there exists a valid image and mask\n",
    "    if len(im) > 0 and len(gt) > 0:\n",
    "        np.save(os.path.join(im_dir,im_name), im)\n",
    "        np.save(os.path.join(gt_dir,im_name), gt)\n",
    "        \n",
    "    i+=1"
   ]
  },
  {
   "cell_type": "code",
   "execution_count": null,
   "metadata": {},
   "outputs": [],
   "source": []
  }
 ],
 "metadata": {
  "kernelspec": {
   "display_name": "Python 3.5",
   "language": "python",
   "name": "python3"
  },
  "language_info": {
   "codemirror_mode": {
    "name": "ipython",
    "version": 3
   },
   "file_extension": ".py",
   "mimetype": "text/x-python",
   "name": "python",
   "nbconvert_exporter": "python",
   "pygments_lexer": "ipython3",
   "version": "3.5.6"
  }
 },
 "nbformat": 4,
 "nbformat_minor": 2
}
