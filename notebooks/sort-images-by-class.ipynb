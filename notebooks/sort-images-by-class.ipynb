{
 "cells": [
  {
   "cell_type": "code",
   "execution_count": null,
   "metadata": {},
   "outputs": [],
   "source": [
    "from PIL import Image\n",
    "import numpy as np\n",
    "import pandas as pd\n",
    "import glob\n",
    "import os\n",
    "import shutil\n",
    "\n",
    "def categorize_images(filenames, df, root_dir, filename_column, label_column):\n",
    "    for file in filenames:\n",
    "        im_name = file.split('/')[-1].split('.')[0]\n",
    "        classes = df[df[filename_column].str.match(im_name)][label_column].to_numpy()\n",
    "\n",
    "        class_names = classes[0].split('/')\n",
    "        num_classes = len(class_names)\n",
    "        if num_classes == 1:\n",
    "            class_name = class_names[0]\n",
    "\n",
    "            out_dir = os.path.join(root_dir, class_name)\n",
    "            if not os.path.exists(out_dir):\n",
    "                os.makedirs(out_dir)\n",
    "\n",
    "            source = file\n",
    "            dest = os.path.join(out_dir, im_name+'.jpg')\n",
    "            shutil.copyfile(source, dest) \n",
    "            print(\"copying \", source, \"to \", dest)\n",
    "    \n",
    "# Example usage    \n",
    "root_dir = '/datadrive/classes' # root directory where class folders should get written\n",
    "csv_path = '../metadata/Example2-Phis.csv' # csv metadata path\n",
    "filenames = glob.glob('/datadrive/infused_innovations/ExampleDataset2/*/*.jpg') # list of image filenames\n",
    "df = pd.read_csv(csv_path)\n",
    "\n",
    "categorize_images(filenames, df, root_dir, 'SPI_FileName', 'SPI_GSMM_phi')"
   ]
  },
  {
   "cell_type": "code",
   "execution_count": null,
   "metadata": {},
   "outputs": [],
   "source": []
  }
 ],
 "metadata": {
  "kernelspec": {
   "display_name": "Python 3.5",
   "language": "python",
   "name": "python3"
  },
  "language_info": {
   "codemirror_mode": {
    "name": "ipython",
    "version": 3
   },
   "file_extension": ".py",
   "mimetype": "text/x-python",
   "name": "python",
   "nbconvert_exporter": "python",
   "pygments_lexer": "ipython3",
   "version": "3.5.6"
  }
 },
 "nbformat": 4,
 "nbformat_minor": 2
}
