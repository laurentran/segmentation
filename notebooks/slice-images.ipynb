{
 "cells": [
  {
   "cell_type": "markdown",
   "metadata": {},
   "source": [
    "## Preprocessing: Image slicing"
   ]
  },
  {
   "cell_type": "code",
   "execution_count": null,
   "metadata": {},
   "outputs": [],
   "source": [
    "from dotenv import load_dotenv\n",
    "from PIL import Image\n",
    "\n",
    "import numpy as np\n",
    "import matplotlib.pyplot as plt\n",
    "import math\n",
    "import os\n",
    "import glob\n",
    "\n",
    "load_dotenv()\n",
    "%matplotlib inline"
   ]
  },
  {
   "cell_type": "code",
   "execution_count": null,
   "metadata": {},
   "outputs": [],
   "source": [
    "\"\"\"\n",
    "Slices image into patches of size NxNx3 according to stride\n",
    "Zero pads any patches that are cut off at borders of image\n",
    "Returns numpy array of image patches\n",
    "\"\"\"\n",
    "\n",
    "def slice_image(img, n, stride, channels):\n",
    "    x_dim, y_dim = img.shape[0], img.shape[1]\n",
    "    \n",
    "    # calculate number of output cubes\n",
    "    num_x = math.ceil((x_dim-n)/stride + 1)\n",
    "    num_y = math.ceil((y_dim-n)/stride + 1)\n",
    "\n",
    "    # iterate through img \n",
    "    results = np.zeros((num_x*num_y, n, n, channels), dtype=int)\n",
    "    counter = 0\n",
    "\n",
    "    for i in range(num_y):\n",
    "        y = 0 if i==0 else y + stride\n",
    "        for j in range(num_x):\n",
    "            x = 0 if j==0 else x + stride\n",
    "\n",
    "            cube = img[x:x+n, y:y+n]\n",
    "            \n",
    "            dims = cube.shape\n",
    "            if channels == 1:\n",
    "                cube = cube.reshape((dims[0],dims[1],1))\n",
    "            results[counter,0:cube.shape[0],0:cube.shape[1]] = cube\n",
    "            counter += 1\n",
    "    return results"
   ]
  },
  {
   "cell_type": "markdown",
   "metadata": {},
   "source": [
    "### Example usage on single image"
   ]
  },
  {
   "cell_type": "code",
   "execution_count": null,
   "metadata": {},
   "outputs": [],
   "source": [
    "n = 128\n",
    "stride = 128\n",
    "channels = 3\n",
    "\n",
    "f = os.getenv('TEST_FILE') \n",
    "im = Image.open(f)\n",
    "im_arr = np.array(im)[:,:,0:channels]\n",
    "plt.figure(figsize=(10,10))\n",
    "plt.imshow(im_arr)"
   ]
  },
  {
   "cell_type": "code",
   "execution_count": null,
   "metadata": {},
   "outputs": [],
   "source": [
    "results = slice_image(im_arr, n, stride, channels)"
   ]
  },
  {
   "cell_type": "markdown",
   "metadata": {},
   "source": [
    "### Slice all images and masks, saving output"
   ]
  },
  {
   "cell_type": "code",
   "execution_count": null,
   "metadata": {},
   "outputs": [],
   "source": [
    "im_dir = os.getenv('IMAGE_DIR')\n",
    "mask_dir = os.getenv('MASK_DIR')\n",
    "\n",
    "postfix = os.getenv('DIR_LABEL_SLICED')\n",
    "n = 128\n",
    "\n",
    "im_dir_out = im_dir + postfix\n",
    "mask_dir_out = mask_dir + postfix"
   ]
  },
  {
   "cell_type": "code",
   "execution_count": null,
   "metadata": {},
   "outputs": [],
   "source": [
    "im_filenames = glob.glob(im_dir+'/*.npy', recursive=True)\n",
    "mask_filenames = glob.glob(mask_dir+'/*.npy', recursive=True)\n",
    "\n",
    "# Create output directories \n",
    "if not os.path.exists(im_dir_out):\n",
    "    os.makedirs(im_dir_out)\n",
    "if not os.path.exists(mask_dir_out):\n",
    "    os.makedirs(mask_dir_out)\n",
    "\n",
    "for i, im_filename in enumerate(im_filenames):\n",
    "    im = np.load(im_filename)\n",
    "    filename = im_filename.split('/')[-1] #get image name\n",
    "    mask = np.load(os.path.join(mask_dir,filename))\n",
    "\n",
    "    im_slices = slice_image(im, n, stride, 3)\n",
    "    mask_slices = slice_image(mask, n, stride, 1)\n",
    "\n",
    "    for j, im_slice in enumerate(im_slices):\n",
    "        np.save(os.path.join(im_dir_out,filename.split('.')[0]+'_'+str(j)+'.npy'), im_slice)\n",
    "\n",
    "    for k, mask_slice in enumerate(mask_slices):\n",
    "        np.save(os.path.join(mask_dir_out,filename.split('.')[0]+'_'+str(k)+'.npy'), mask_slice)\n",
    "        \n",
    "    print('processed image', i)"
   ]
  }
 ],
 "metadata": {
  "kernelspec": {
   "display_name": "Python 3.5",
   "language": "python",
   "name": "python3"
  },
  "language_info": {
   "codemirror_mode": {
    "name": "ipython",
    "version": 3
   },
   "file_extension": ".py",
   "mimetype": "text/x-python",
   "name": "python",
   "nbconvert_exporter": "python",
   "pygments_lexer": "ipython3",
   "version": "3.5.6"
  }
 },
 "nbformat": 4,
 "nbformat_minor": 4
}
